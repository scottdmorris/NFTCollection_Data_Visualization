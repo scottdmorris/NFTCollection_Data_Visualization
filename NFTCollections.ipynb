{
 "cells": [
  {
   "cell_type": "markdown",
   "metadata": {},
   "source": [
    "<h1>Project Introduction</h1>\n",
    "\n",
    "Since the start of the new decade we have seen an influx of new technologies being adapted into social culture. One of these technologies that has been very debated and talked about have been NFT's, digital non-fungible tokens that can be bought using cryptocurrencies such as Ethereum. While many people either love them or hate them, NFTs have still continued to grow. Using the NFT Collections dataset found from Kaggle, I aim to show how well NFT Collections are doing in terms of sales, buyers, transactions, and owners. The data originates from [cryptoslam.io](cryptoslam.io), a website that keeps statistics on NFT Collections and blockchains.\n",
    "\n",
    "Exploring correlation between NFT Sales & # of All-Time Buyers, Transactions, and Owners.  \n",
    "\n",
    "Dataset: NFT Collections\n",
    "\n",
    "Source: Kaggle https://www.kaggle.com/hemil26/nft-collections-dataset\n",
    "\n",
    "This datset contains 5 columns: Collection (Name), Sales (All-Time), # of Buyers (All-Time), # of Transactions (All-Time), # of Owners (All-Time) "
   ]
  },
  {
   "cell_type": "code",
   "execution_count": 1,
   "metadata": {},
   "outputs": [],
   "source": [
    "import numpy as np\n",
    "import pandas as pd\n",
    "from csv import reader\n",
    "import matplotlib.pyplot as plt\n",
    "import tqdm\n",
    "import seaborn as sns"
   ]
  },
  {
   "cell_type": "markdown",
   "metadata": {},
   "source": [
    "<h1>Data Observations Using Pandas & Numpy</h1>\n",
    "\n",
    "From looking at our created DataFrame, we can make several observations. In terms of size, we have 250 rows of different NFT collections present in our data. The data is already sorted by Sales in descending order. We can also see from querying for null values that the there are NaN values in the 'Owners' column for quite a few collections. My next step is to format and arrange my data in a way to prepare for proper analysis between columns."
   ]
  },
  {
   "cell_type": "code",
   "execution_count": 2,
   "metadata": {},
   "outputs": [
    {
     "data": {
      "text/html": [
       "<div>\n",
       "<style scoped>\n",
       "    .dataframe tbody tr th:only-of-type {\n",
       "        vertical-align: middle;\n",
       "    }\n",
       "\n",
       "    .dataframe tbody tr th {\n",
       "        vertical-align: top;\n",
       "    }\n",
       "\n",
       "    .dataframe thead th {\n",
       "        text-align: right;\n",
       "    }\n",
       "</style>\n",
       "<table border=\"1\" class=\"dataframe\">\n",
       "  <thead>\n",
       "    <tr style=\"text-align: right;\">\n",
       "      <th></th>\n",
       "      <th>Collections</th>\n",
       "      <th>Sales</th>\n",
       "      <th>Buyers</th>\n",
       "      <th>Txns</th>\n",
       "      <th>Owners</th>\n",
       "    </tr>\n",
       "  </thead>\n",
       "  <tbody>\n",
       "    <tr>\n",
       "      <th>0</th>\n",
       "      <td>Axie Infinity</td>\n",
       "      <td>$3,945,119,477</td>\n",
       "      <td>1,556,752</td>\n",
       "      <td>13,723,004</td>\n",
       "      <td>2,952,428</td>\n",
       "    </tr>\n",
       "    <tr>\n",
       "      <th>1</th>\n",
       "      <td>CryptoPunks</td>\n",
       "      <td>$2,001,750,639</td>\n",
       "      <td>5,154</td>\n",
       "      <td>20,087</td>\n",
       "      <td>3,470</td>\n",
       "    </tr>\n",
       "    <tr>\n",
       "      <th>2</th>\n",
       "      <td>Bored Ape Yacht Club</td>\n",
       "      <td>$1,306,466,924</td>\n",
       "      <td>9,402</td>\n",
       "      <td>24,469</td>\n",
       "      <td>6,314</td>\n",
       "    </tr>\n",
       "    <tr>\n",
       "      <th>3</th>\n",
       "      <td>Art Blocks</td>\n",
       "      <td>$1,183,404,370</td>\n",
       "      <td>26,109</td>\n",
       "      <td>140,456</td>\n",
       "      <td>30,192</td>\n",
       "    </tr>\n",
       "    <tr>\n",
       "      <th>4</th>\n",
       "      <td>NBA Top Shot</td>\n",
       "      <td>$899,041,520</td>\n",
       "      <td>407,970</td>\n",
       "      <td>15,778,187</td>\n",
       "      <td>649,140</td>\n",
       "    </tr>\n",
       "    <tr>\n",
       "      <th>...</th>\n",
       "      <td>...</td>\n",
       "      <td>...</td>\n",
       "      <td>...</td>\n",
       "      <td>...</td>\n",
       "      <td>...</td>\n",
       "    </tr>\n",
       "    <tr>\n",
       "      <th>245</th>\n",
       "      <td>Star Sailor Siblings</td>\n",
       "      <td>$9,683,878</td>\n",
       "      <td>3,732</td>\n",
       "      <td>10,179</td>\n",
       "      <td>2,795</td>\n",
       "    </tr>\n",
       "    <tr>\n",
       "      <th>246</th>\n",
       "      <td>DuskBreakers</td>\n",
       "      <td>$9,668,012</td>\n",
       "      <td>4,022</td>\n",
       "      <td>11,218</td>\n",
       "      <td>NaN</td>\n",
       "    </tr>\n",
       "    <tr>\n",
       "      <th>247</th>\n",
       "      <td>Quantum Traders</td>\n",
       "      <td>$9,621,922</td>\n",
       "      <td>3,733</td>\n",
       "      <td>7,674</td>\n",
       "      <td>3,717</td>\n",
       "    </tr>\n",
       "    <tr>\n",
       "      <th>248</th>\n",
       "      <td>KingFrogs</td>\n",
       "      <td>$9,244,655</td>\n",
       "      <td>5,858</td>\n",
       "      <td>11,798</td>\n",
       "      <td>5,603</td>\n",
       "    </tr>\n",
       "    <tr>\n",
       "      <th>249</th>\n",
       "      <td>Royal Society Players</td>\n",
       "      <td>$9,106,328</td>\n",
       "      <td>1,588</td>\n",
       "      <td>7,707</td>\n",
       "      <td>1,590</td>\n",
       "    </tr>\n",
       "  </tbody>\n",
       "</table>\n",
       "<p>250 rows × 5 columns</p>\n",
       "</div>"
      ],
      "text/plain": [
       "               Collections           Sales     Buyers        Txns     Owners\n",
       "0            Axie Infinity  $3,945,119,477  1,556,752  13,723,004  2,952,428\n",
       "1              CryptoPunks  $2,001,750,639      5,154      20,087      3,470\n",
       "2     Bored Ape Yacht Club  $1,306,466,924      9,402      24,469      6,314\n",
       "3               Art Blocks  $1,183,404,370     26,109     140,456     30,192\n",
       "4             NBA Top Shot    $899,041,520    407,970  15,778,187    649,140\n",
       "..                     ...             ...        ...         ...        ...\n",
       "245   Star Sailor Siblings      $9,683,878      3,732      10,179      2,795\n",
       "246           DuskBreakers      $9,668,012      4,022      11,218        NaN\n",
       "247        Quantum Traders      $9,621,922      3,733       7,674      3,717\n",
       "248              KingFrogs      $9,244,655      5,858      11,798      5,603\n",
       "249  Royal Society Players      $9,106,328      1,588       7,707      1,590\n",
       "\n",
       "[250 rows x 5 columns]"
      ]
     },
     "execution_count": 2,
     "metadata": {},
     "output_type": "execute_result"
    }
   ],
   "source": [
    "df = pd.read_csv(r'nft_sales_v0602.csv')\n",
    "df"
   ]
  },
  {
   "cell_type": "code",
   "execution_count": 3,
   "metadata": {},
   "outputs": [
    {
     "name": "stdout",
     "output_type": "stream",
     "text": [
      "<class 'pandas.core.frame.DataFrame'>\n",
      "RangeIndex: 250 entries, 0 to 249\n",
      "Data columns (total 5 columns):\n",
      " #   Column       Non-Null Count  Dtype \n",
      "---  ------       --------------  ----- \n",
      " 0   Collections  250 non-null    object\n",
      " 1   Sales        250 non-null    object\n",
      " 2   Buyers       250 non-null    object\n",
      " 3   Txns         250 non-null    object\n",
      " 4   Owners       174 non-null    object\n",
      "dtypes: object(5)\n",
      "memory usage: 9.9+ KB\n"
     ]
    }
   ],
   "source": [
    "df.info()"
   ]
  },
  {
   "cell_type": "code",
   "execution_count": 4,
   "metadata": {},
   "outputs": [
    {
     "name": "stdout",
     "output_type": "stream",
     "text": [
      "0      $3,945,119,477\n",
      "1      $2,001,750,639\n",
      "2      $1,306,466,924\n",
      "3      $1,183,404,370\n",
      "4        $899,041,520\n",
      "            ...      \n",
      "245        $9,683,878\n",
      "246        $9,668,012\n",
      "247        $9,621,922\n",
      "248        $9,244,655\n",
      "249        $9,106,328\n",
      "Name: Sales, Length: 250, dtype: object\n"
     ]
    }
   ],
   "source": [
    "print(df.Sales)"
   ]
  },
  {
   "cell_type": "markdown",
   "metadata": {},
   "source": [
    "As we can see, the shape of our data consists of 5 columns and 250 rows/entries. The dtype of all the columns are registered as objects due to the contents containing strings and the numerical data has commans which makes pandas consider them as mixed type. It can also be seen that the Owners column has a different amount of non-null values than the others. We will address this issues later but for now let's see what other information we can observe from our data."
   ]
  },
  {
   "cell_type": "markdown",
   "metadata": {},
   "source": [
    "<h1>DataFrame Formatting</h1>\n",
    "\n",
    "Before I start analyzing my dataframe for correlation, I first want to make sure it is in a suitable format in case there are any issues such as missing data to make it easier to interact with the data. My first decision was to change the index of the data to the name of the corresponding NFT Collections, so it will be clearer which specific collections are being referenced. This now leaves us with 4 columns: Sales, Buyers, Transactions, and Owners."
   ]
  },
  {
   "cell_type": "code",
   "execution_count": 5,
   "metadata": {},
   "outputs": [
    {
     "data": {
      "text/html": [
       "<div>\n",
       "<style scoped>\n",
       "    .dataframe tbody tr th:only-of-type {\n",
       "        vertical-align: middle;\n",
       "    }\n",
       "\n",
       "    .dataframe tbody tr th {\n",
       "        vertical-align: top;\n",
       "    }\n",
       "\n",
       "    .dataframe thead th {\n",
       "        text-align: right;\n",
       "    }\n",
       "</style>\n",
       "<table border=\"1\" class=\"dataframe\">\n",
       "  <thead>\n",
       "    <tr style=\"text-align: right;\">\n",
       "      <th></th>\n",
       "      <th>Sales</th>\n",
       "      <th>Buyers</th>\n",
       "      <th>Txns</th>\n",
       "      <th>Owners</th>\n",
       "    </tr>\n",
       "    <tr>\n",
       "      <th>Collections</th>\n",
       "      <th></th>\n",
       "      <th></th>\n",
       "      <th></th>\n",
       "      <th></th>\n",
       "    </tr>\n",
       "  </thead>\n",
       "  <tbody>\n",
       "    <tr>\n",
       "      <th>Axie Infinity</th>\n",
       "      <td>$3,945,119,477</td>\n",
       "      <td>1,556,752</td>\n",
       "      <td>13,723,004</td>\n",
       "      <td>2,952,428</td>\n",
       "    </tr>\n",
       "    <tr>\n",
       "      <th>CryptoPunks</th>\n",
       "      <td>$2,001,750,639</td>\n",
       "      <td>5,154</td>\n",
       "      <td>20,087</td>\n",
       "      <td>3,470</td>\n",
       "    </tr>\n",
       "    <tr>\n",
       "      <th>Bored Ape Yacht Club</th>\n",
       "      <td>$1,306,466,924</td>\n",
       "      <td>9,402</td>\n",
       "      <td>24,469</td>\n",
       "      <td>6,314</td>\n",
       "    </tr>\n",
       "    <tr>\n",
       "      <th>Art Blocks</th>\n",
       "      <td>$1,183,404,370</td>\n",
       "      <td>26,109</td>\n",
       "      <td>140,456</td>\n",
       "      <td>30,192</td>\n",
       "    </tr>\n",
       "    <tr>\n",
       "      <th>NBA Top Shot</th>\n",
       "      <td>$899,041,520</td>\n",
       "      <td>407,970</td>\n",
       "      <td>15,778,187</td>\n",
       "      <td>649,140</td>\n",
       "    </tr>\n",
       "    <tr>\n",
       "      <th>...</th>\n",
       "      <td>...</td>\n",
       "      <td>...</td>\n",
       "      <td>...</td>\n",
       "      <td>...</td>\n",
       "    </tr>\n",
       "    <tr>\n",
       "      <th>Star Sailor Siblings</th>\n",
       "      <td>$9,683,878</td>\n",
       "      <td>3,732</td>\n",
       "      <td>10,179</td>\n",
       "      <td>2,795</td>\n",
       "    </tr>\n",
       "    <tr>\n",
       "      <th>DuskBreakers</th>\n",
       "      <td>$9,668,012</td>\n",
       "      <td>4,022</td>\n",
       "      <td>11,218</td>\n",
       "      <td>NaN</td>\n",
       "    </tr>\n",
       "    <tr>\n",
       "      <th>Quantum Traders</th>\n",
       "      <td>$9,621,922</td>\n",
       "      <td>3,733</td>\n",
       "      <td>7,674</td>\n",
       "      <td>3,717</td>\n",
       "    </tr>\n",
       "    <tr>\n",
       "      <th>KingFrogs</th>\n",
       "      <td>$9,244,655</td>\n",
       "      <td>5,858</td>\n",
       "      <td>11,798</td>\n",
       "      <td>5,603</td>\n",
       "    </tr>\n",
       "    <tr>\n",
       "      <th>Royal Society Players</th>\n",
       "      <td>$9,106,328</td>\n",
       "      <td>1,588</td>\n",
       "      <td>7,707</td>\n",
       "      <td>1,590</td>\n",
       "    </tr>\n",
       "  </tbody>\n",
       "</table>\n",
       "<p>250 rows × 4 columns</p>\n",
       "</div>"
      ],
      "text/plain": [
       "                                Sales     Buyers        Txns     Owners\n",
       "Collections                                                            \n",
       "Axie Infinity          $3,945,119,477  1,556,752  13,723,004  2,952,428\n",
       "CryptoPunks            $2,001,750,639      5,154      20,087      3,470\n",
       "Bored Ape Yacht Club   $1,306,466,924      9,402      24,469      6,314\n",
       "Art Blocks             $1,183,404,370     26,109     140,456     30,192\n",
       "NBA Top Shot             $899,041,520    407,970  15,778,187    649,140\n",
       "...                               ...        ...         ...        ...\n",
       "Star Sailor Siblings       $9,683,878      3,732      10,179      2,795\n",
       "DuskBreakers               $9,668,012      4,022      11,218        NaN\n",
       "Quantum Traders            $9,621,922      3,733       7,674      3,717\n",
       "KingFrogs                  $9,244,655      5,858      11,798      5,603\n",
       "Royal Society Players      $9,106,328      1,588       7,707      1,590\n",
       "\n",
       "[250 rows x 4 columns]"
      ]
     },
     "execution_count": 5,
     "metadata": {},
     "output_type": "execute_result"
    }
   ],
   "source": [
    "df = df.set_index('Collections')\n",
    "df"
   ]
  },
  {
   "cell_type": "markdown",
   "metadata": {},
   "source": [
    "My next change to the data is to change the dtype of my columns to integers as they should be. To do this, I remove all the commas and dollar signs from the columns as needed and then assign the columns data type as integer."
   ]
  },
  {
   "cell_type": "code",
   "execution_count": 6,
   "metadata": {},
   "outputs": [],
   "source": [
    " # removing commas from numerical values\n",
    "df['Sales'] = df['Sales'].str.replace(',', '')\n",
    "df['Sales'] = df['Sales'].str.replace('$', '')\n",
    "df['Buyers'] = df['Buyers'].str.replace(',', '')\n",
    "df['Txns'] = df['Txns'].str.replace(',', '')\n",
    "df['Owners'] = df['Owners'].str.replace(',', '')"
   ]
  },
  {
   "cell_type": "code",
   "execution_count": 7,
   "metadata": {},
   "outputs": [],
   "source": [
    "df['Sales'] = df['Sales'].astype(int)\n",
    "df['Buyers'] = df['Buyers'].astype(int)\n",
    "df['Txns'] = df['Txns'].astype(int)\n",
    "df['Owners'] = df['Owners'].astype(float)"
   ]
  },
  {
   "cell_type": "code",
   "execution_count": 8,
   "metadata": {},
   "outputs": [
    {
     "name": "stdout",
     "output_type": "stream",
     "text": [
      "<class 'pandas.core.frame.DataFrame'>\n",
      "Index: 250 entries, Axie Infinity to Royal Society Players\n",
      "Data columns (total 4 columns):\n",
      " #   Column  Non-Null Count  Dtype  \n",
      "---  ------  --------------  -----  \n",
      " 0   Sales   250 non-null    int64  \n",
      " 1   Buyers  250 non-null    int64  \n",
      " 2   Txns    250 non-null    int64  \n",
      " 3   Owners  174 non-null    float64\n",
      "dtypes: float64(1), int64(3)\n",
      "memory usage: 9.8+ KB\n"
     ]
    }
   ],
   "source": [
    "df.info()"
   ]
  },
  {
   "cell_type": "markdown",
   "metadata": {},
   "source": [
    "My next step is address the missing/NaN values within my data. We can see below from the heatmap that the only column with NaN values is the Owners column. To alleviate this issue I decided to drop the rows with missing values since the information about how many NFT owners there are for some collections are not publicly available. I also chose to do this rather than to fill the values to 0 because I would not want this to effect my future correlations with the data. This dropped our dataframe size to 174 rows. "
   ]
  },
  {
   "cell_type": "code",
   "execution_count": 9,
   "metadata": {},
   "outputs": [
    {
     "data": {
      "text/plain": [
       "<AxesSubplot:ylabel='Collections'>"
      ]
     },
     "execution_count": 9,
     "metadata": {},
     "output_type": "execute_result"
    },
    {
     "data": {
      "image/png": "[encoded data removed]",
      "text/plain": [
       "<Figure size 432x288 with 1 Axes>"
      ]
     },
     "metadata": {
      "needs_background": "light"
     },
     "output_type": "display_data"
    }
   ],
   "source": [
    "sns.heatmap(df.isnull(), yticklabels=False, cbar=False, cmap='Blues')"
   ]
  },
  {
   "cell_type": "code",
   "execution_count": 10,
   "metadata": {},
   "outputs": [
    {
     "data": {
      "text/html": [
       "<div>\n",
       "<style scoped>\n",
       "    .dataframe tbody tr th:only-of-type {\n",
       "        vertical-align: middle;\n",
       "    }\n",
       "\n",
       "    .dataframe tbody tr th {\n",
       "        vertical-align: top;\n",
       "    }\n",
       "\n",
       "    .dataframe thead th {\n",
       "        text-align: right;\n",
       "    }\n",
       "</style>\n",
       "<table border=\"1\" class=\"dataframe\">\n",
       "  <thead>\n",
       "    <tr style=\"text-align: right;\">\n",
       "      <th></th>\n",
       "      <th>Sales</th>\n",
       "      <th>Buyers</th>\n",
       "      <th>Txns</th>\n",
       "      <th>Owners</th>\n",
       "    </tr>\n",
       "    <tr>\n",
       "      <th>Collections</th>\n",
       "      <th></th>\n",
       "      <th></th>\n",
       "      <th></th>\n",
       "      <th></th>\n",
       "    </tr>\n",
       "  </thead>\n",
       "  <tbody>\n",
       "    <tr>\n",
       "      <th>Axie Infinity</th>\n",
       "      <td>3945119477</td>\n",
       "      <td>1556752</td>\n",
       "      <td>13723004</td>\n",
       "      <td>2952428.0</td>\n",
       "    </tr>\n",
       "    <tr>\n",
       "      <th>CryptoPunks</th>\n",
       "      <td>2001750639</td>\n",
       "      <td>5154</td>\n",
       "      <td>20087</td>\n",
       "      <td>3470.0</td>\n",
       "    </tr>\n",
       "    <tr>\n",
       "      <th>Bored Ape Yacht Club</th>\n",
       "      <td>1306466924</td>\n",
       "      <td>9402</td>\n",
       "      <td>24469</td>\n",
       "      <td>6314.0</td>\n",
       "    </tr>\n",
       "    <tr>\n",
       "      <th>Art Blocks</th>\n",
       "      <td>1183404370</td>\n",
       "      <td>26109</td>\n",
       "      <td>140456</td>\n",
       "      <td>30192.0</td>\n",
       "    </tr>\n",
       "    <tr>\n",
       "      <th>NBA Top Shot</th>\n",
       "      <td>899041520</td>\n",
       "      <td>407970</td>\n",
       "      <td>15778187</td>\n",
       "      <td>649140.0</td>\n",
       "    </tr>\n",
       "    <tr>\n",
       "      <th>...</th>\n",
       "      <td>...</td>\n",
       "      <td>...</td>\n",
       "      <td>...</td>\n",
       "      <td>...</td>\n",
       "    </tr>\n",
       "    <tr>\n",
       "      <th>Sollamas</th>\n",
       "      <td>9718145</td>\n",
       "      <td>4785</td>\n",
       "      <td>10647</td>\n",
       "      <td>3637.0</td>\n",
       "    </tr>\n",
       "    <tr>\n",
       "      <th>Star Sailor Siblings</th>\n",
       "      <td>9683878</td>\n",
       "      <td>3732</td>\n",
       "      <td>10179</td>\n",
       "      <td>2795.0</td>\n",
       "    </tr>\n",
       "    <tr>\n",
       "      <th>Quantum Traders</th>\n",
       "      <td>9621922</td>\n",
       "      <td>3733</td>\n",
       "      <td>7674</td>\n",
       "      <td>3717.0</td>\n",
       "    </tr>\n",
       "    <tr>\n",
       "      <th>KingFrogs</th>\n",
       "      <td>9244655</td>\n",
       "      <td>5858</td>\n",
       "      <td>11798</td>\n",
       "      <td>5603.0</td>\n",
       "    </tr>\n",
       "    <tr>\n",
       "      <th>Royal Society Players</th>\n",
       "      <td>9106328</td>\n",
       "      <td>1588</td>\n",
       "      <td>7707</td>\n",
       "      <td>1590.0</td>\n",
       "    </tr>\n",
       "  </tbody>\n",
       "</table>\n",
       "<p>174 rows × 4 columns</p>\n",
       "</div>"
      ],
      "text/plain": [
       "                            Sales   Buyers      Txns     Owners\n",
       "Collections                                                    \n",
       "Axie Infinity          3945119477  1556752  13723004  2952428.0\n",
       "CryptoPunks            2001750639     5154     20087     3470.0\n",
       "Bored Ape Yacht Club   1306466924     9402     24469     6314.0\n",
       "Art Blocks             1183404370    26109    140456    30192.0\n",
       "NBA Top Shot            899041520   407970  15778187   649140.0\n",
       "...                           ...      ...       ...        ...\n",
       "Sollamas                  9718145     4785     10647     3637.0\n",
       "Star Sailor Siblings      9683878     3732     10179     2795.0\n",
       "Quantum Traders           9621922     3733      7674     3717.0\n",
       "KingFrogs                 9244655     5858     11798     5603.0\n",
       "Royal Society Players     9106328     1588      7707     1590.0\n",
       "\n",
       "[174 rows x 4 columns]"
      ]
     },
     "execution_count": 10,
     "metadata": {},
     "output_type": "execute_result"
    }
   ],
   "source": [
    "df = df.dropna()\n",
    "df"
   ]
  },
  {
   "cell_type": "markdown",
   "metadata": {},
   "source": [
    "<h1>Column Observations</h1>"
   ]
  },
  {
   "cell_type": "markdown",
   "metadata": {},
   "source": [
    "**Sales**\n",
    "\n",
    "One of the best ways to analyze the success of an NFT Collection would be to look at amount of money acquired through sales. "
   ]
  },
  {
   "cell_type": "code",
   "execution_count": 11,
   "metadata": {},
   "outputs": [
    {
     "data": {
      "text/html": [
       "<div>\n",
       "<style scoped>\n",
       "    .dataframe tbody tr th:only-of-type {\n",
       "        vertical-align: middle;\n",
       "    }\n",
       "\n",
       "    .dataframe tbody tr th {\n",
       "        vertical-align: top;\n",
       "    }\n",
       "\n",
       "    .dataframe thead th {\n",
       "        text-align: right;\n",
       "    }\n",
       "</style>\n",
       "<table border=\"1\" class=\"dataframe\">\n",
       "  <thead>\n",
       "    <tr style=\"text-align: right;\">\n",
       "      <th></th>\n",
       "      <th>Sales</th>\n",
       "    </tr>\n",
       "    <tr>\n",
       "      <th>Collections</th>\n",
       "      <th></th>\n",
       "    </tr>\n",
       "  </thead>\n",
       "  <tbody>\n",
       "    <tr>\n",
       "      <th>Royal Society Players</th>\n",
       "      <td>9106328</td>\n",
       "    </tr>\n",
       "    <tr>\n",
       "      <th>KingFrogs</th>\n",
       "      <td>9244655</td>\n",
       "    </tr>\n",
       "    <tr>\n",
       "      <th>Quantum Traders</th>\n",
       "      <td>9621922</td>\n",
       "    </tr>\n",
       "    <tr>\n",
       "      <th>Star Sailor Siblings</th>\n",
       "      <td>9683878</td>\n",
       "    </tr>\n",
       "    <tr>\n",
       "      <th>Sollamas</th>\n",
       "      <td>9718145</td>\n",
       "    </tr>\n",
       "    <tr>\n",
       "      <th>...</th>\n",
       "      <td>...</td>\n",
       "    </tr>\n",
       "    <tr>\n",
       "      <th>NBA Top Shot</th>\n",
       "      <td>899041520</td>\n",
       "    </tr>\n",
       "    <tr>\n",
       "      <th>Art Blocks</th>\n",
       "      <td>1183404370</td>\n",
       "    </tr>\n",
       "    <tr>\n",
       "      <th>Bored Ape Yacht Club</th>\n",
       "      <td>1306466924</td>\n",
       "    </tr>\n",
       "    <tr>\n",
       "      <th>CryptoPunks</th>\n",
       "      <td>2001750639</td>\n",
       "    </tr>\n",
       "    <tr>\n",
       "      <th>Axie Infinity</th>\n",
       "      <td>3945119477</td>\n",
       "    </tr>\n",
       "  </tbody>\n",
       "</table>\n",
       "<p>174 rows × 1 columns</p>\n",
       "</div>"
      ],
      "text/plain": [
       "                            Sales\n",
       "Collections                      \n",
       "Royal Society Players     9106328\n",
       "KingFrogs                 9244655\n",
       "Quantum Traders           9621922\n",
       "Star Sailor Siblings      9683878\n",
       "Sollamas                  9718145\n",
       "...                           ...\n",
       "NBA Top Shot            899041520\n",
       "Art Blocks             1183404370\n",
       "Bored Ape Yacht Club   1306466924\n",
       "CryptoPunks            2001750639\n",
       "Axie Infinity          3945119477\n",
       "\n",
       "[174 rows x 1 columns]"
      ]
     },
     "execution_count": 11,
     "metadata": {},
     "output_type": "execute_result"
    }
   ],
   "source": [
    "df[['Sales']].sort_values('Sales',ascending=True)"
   ]
  },
  {
   "cell_type": "markdown",
   "metadata": {},
   "source": [
    "We can see that the NFT Collection in our data that has aquired the most profit is Axie Infinity with a staggering 3,945,119,477 in profit. That's a lot of money! The collection that has the minimum amount of sales is Royal Society Players with $9,106,328 in profit."
   ]
  },
  {
   "cell_type": "code",
   "execution_count": 12,
   "metadata": {},
   "outputs": [
    {
     "data": {
      "text/html": [
       "<div>\n",
       "<style scoped>\n",
       "    .dataframe tbody tr th:only-of-type {\n",
       "        vertical-align: middle;\n",
       "    }\n",
       "\n",
       "    .dataframe tbody tr th {\n",
       "        vertical-align: top;\n",
       "    }\n",
       "\n",
       "    .dataframe thead th {\n",
       "        text-align: right;\n",
       "    }\n",
       "</style>\n",
       "<table border=\"1\" class=\"dataframe\">\n",
       "  <thead>\n",
       "    <tr style=\"text-align: right;\">\n",
       "      <th></th>\n",
       "      <th>Sales</th>\n",
       "    </tr>\n",
       "  </thead>\n",
       "  <tbody>\n",
       "    <tr>\n",
       "      <th>count</th>\n",
       "      <td>1.740000e+02</td>\n",
       "    </tr>\n",
       "    <tr>\n",
       "      <th>mean</th>\n",
       "      <td>1.059979e+08</td>\n",
       "    </tr>\n",
       "    <tr>\n",
       "      <th>std</th>\n",
       "      <td>3.660360e+08</td>\n",
       "    </tr>\n",
       "    <tr>\n",
       "      <th>min</th>\n",
       "      <td>9.106328e+06</td>\n",
       "    </tr>\n",
       "    <tr>\n",
       "      <th>25%</th>\n",
       "      <td>1.452217e+07</td>\n",
       "    </tr>\n",
       "    <tr>\n",
       "      <th>50%</th>\n",
       "      <td>2.635729e+07</td>\n",
       "    </tr>\n",
       "    <tr>\n",
       "      <th>75%</th>\n",
       "      <td>6.728251e+07</td>\n",
       "    </tr>\n",
       "    <tr>\n",
       "      <th>max</th>\n",
       "      <td>3.945119e+09</td>\n",
       "    </tr>\n",
       "  </tbody>\n",
       "</table>\n",
       "</div>"
      ],
      "text/plain": [
       "              Sales\n",
       "count  1.740000e+02\n",
       "mean   1.059979e+08\n",
       "std    3.660360e+08\n",
       "min    9.106328e+06\n",
       "25%    1.452217e+07\n",
       "50%    2.635729e+07\n",
       "75%    6.728251e+07\n",
       "max    3.945119e+09"
      ]
     },
     "execution_count": 12,
     "metadata": {},
     "output_type": "execute_result"
    }
   ],
   "source": [
    "df[['Sales']].describe()"
   ]
  },
  {
   "cell_type": "markdown",
   "metadata": {},
   "source": [
    "The average amount of Sales in our data is $105,997,891 and the standard deviation of sales is 3,660,360,004. "
   ]
  },
  {
   "cell_type": "markdown",
   "metadata": {},
   "source": [
    "**Transactions**\n",
    "\n",
    "Another good way to look at the success and popularity of an NFT Collection is the amount of transactions that have happened all time. This column represents the total number of buying and selling transactions within a respective collection."
   ]
  },
  {
   "cell_type": "code",
   "execution_count": 13,
   "metadata": {},
   "outputs": [
    {
     "data": {
      "text/html": [
       "<div>\n",
       "<style scoped>\n",
       "    .dataframe tbody tr th:only-of-type {\n",
       "        vertical-align: middle;\n",
       "    }\n",
       "\n",
       "    .dataframe tbody tr th {\n",
       "        vertical-align: top;\n",
       "    }\n",
       "\n",
       "    .dataframe thead th {\n",
       "        text-align: right;\n",
       "    }\n",
       "</style>\n",
       "<table border=\"1\" class=\"dataframe\">\n",
       "  <thead>\n",
       "    <tr style=\"text-align: right;\">\n",
       "      <th></th>\n",
       "      <th>Txns</th>\n",
       "    </tr>\n",
       "    <tr>\n",
       "      <th>Collections</th>\n",
       "      <th></th>\n",
       "    </tr>\n",
       "  </thead>\n",
       "  <tbody>\n",
       "    <tr>\n",
       "      <th>Deafbeef</th>\n",
       "      <td>142</td>\n",
       "    </tr>\n",
       "    <tr>\n",
       "      <th>Autoglyphs</th>\n",
       "      <td>353</td>\n",
       "    </tr>\n",
       "    <tr>\n",
       "      <th>Mutant Garden Seeder</th>\n",
       "      <td>504</td>\n",
       "    </tr>\n",
       "    <tr>\n",
       "      <th>Avid Lines</th>\n",
       "      <td>508</td>\n",
       "    </tr>\n",
       "    <tr>\n",
       "      <th>Basis Markets</th>\n",
       "      <td>773</td>\n",
       "    </tr>\n",
       "    <tr>\n",
       "      <th>...</th>\n",
       "      <td>...</td>\n",
       "    </tr>\n",
       "    <tr>\n",
       "      <th>Sorare</th>\n",
       "      <td>1244247</td>\n",
       "    </tr>\n",
       "    <tr>\n",
       "      <th>Farmers World</th>\n",
       "      <td>2168991</td>\n",
       "    </tr>\n",
       "    <tr>\n",
       "      <th>Alien Worlds</th>\n",
       "      <td>5120264</td>\n",
       "    </tr>\n",
       "    <tr>\n",
       "      <th>Axie Infinity</th>\n",
       "      <td>13723004</td>\n",
       "    </tr>\n",
       "    <tr>\n",
       "      <th>NBA Top Shot</th>\n",
       "      <td>15778187</td>\n",
       "    </tr>\n",
       "  </tbody>\n",
       "</table>\n",
       "<p>174 rows × 1 columns</p>\n",
       "</div>"
      ],
      "text/plain": [
       "                          Txns\n",
       "Collections                   \n",
       "Deafbeef                   142\n",
       "Autoglyphs                 353\n",
       "Mutant Garden Seeder       504\n",
       "Avid Lines                 508\n",
       "Basis Markets              773\n",
       "...                        ...\n",
       "Sorare                 1244247\n",
       "Farmers World          2168991\n",
       "Alien Worlds           5120264\n",
       "Axie Infinity         13723004\n",
       "NBA Top Shot          15778187\n",
       "\n",
       "[174 rows x 1 columns]"
      ]
     },
     "execution_count": 13,
     "metadata": {},
     "output_type": "execute_result"
    }
   ],
   "source": [
    "df[['Txns']].sort_values('Txns', ascending=True)"
   ]
  },
  {
   "cell_type": "code",
   "execution_count": 14,
   "metadata": {
    "scrolled": true
   },
   "outputs": [
    {
     "data": {
      "text/html": [
       "<div>\n",
       "<style scoped>\n",
       "    .dataframe tbody tr th:only-of-type {\n",
       "        vertical-align: middle;\n",
       "    }\n",
       "\n",
       "    .dataframe tbody tr th {\n",
       "        vertical-align: top;\n",
       "    }\n",
       "\n",
       "    .dataframe thead th {\n",
       "        text-align: right;\n",
       "    }\n",
       "</style>\n",
       "<table border=\"1\" class=\"dataframe\">\n",
       "  <thead>\n",
       "    <tr style=\"text-align: right;\">\n",
       "      <th></th>\n",
       "      <th>Txns</th>\n",
       "    </tr>\n",
       "  </thead>\n",
       "  <tbody>\n",
       "    <tr>\n",
       "      <th>count</th>\n",
       "      <td>1.740000e+02</td>\n",
       "    </tr>\n",
       "    <tr>\n",
       "      <th>mean</th>\n",
       "      <td>2.533399e+05</td>\n",
       "    </tr>\n",
       "    <tr>\n",
       "      <th>std</th>\n",
       "      <td>1.632668e+06</td>\n",
       "    </tr>\n",
       "    <tr>\n",
       "      <th>min</th>\n",
       "      <td>1.420000e+02</td>\n",
       "    </tr>\n",
       "    <tr>\n",
       "      <th>25%</th>\n",
       "      <td>8.714750e+03</td>\n",
       "    </tr>\n",
       "    <tr>\n",
       "      <th>50%</th>\n",
       "      <td>1.313950e+04</td>\n",
       "    </tr>\n",
       "    <tr>\n",
       "      <th>75%</th>\n",
       "      <td>1.879700e+04</td>\n",
       "    </tr>\n",
       "    <tr>\n",
       "      <th>max</th>\n",
       "      <td>1.577819e+07</td>\n",
       "    </tr>\n",
       "  </tbody>\n",
       "</table>\n",
       "</div>"
      ],
      "text/plain": [
       "               Txns\n",
       "count  1.740000e+02\n",
       "mean   2.533399e+05\n",
       "std    1.632668e+06\n",
       "min    1.420000e+02\n",
       "25%    8.714750e+03\n",
       "50%    1.313950e+04\n",
       "75%    1.879700e+04\n",
       "max    1.577819e+07"
      ]
     },
     "execution_count": 14,
     "metadata": {},
     "output_type": "execute_result"
    }
   ],
   "source": [
    "df[['Txns']].describe()"
   ]
  },
  {
   "cell_type": "markdown",
   "metadata": {},
   "source": [
    "From this column, we can see that the collection with the least amount of transactions in our data is Deadbeef with 142 and the collection with the most is NBA Top Shot with 15,778,187. The average number of transactions for a collection within our data is 253,339 and the standard deviation is 1,632,667."
   ]
  },
  {
   "cell_type": "markdown",
   "metadata": {},
   "source": [
    "**Owners**\n",
    "\n",
    "The number of owners in a collection tells us how many unique people currently own an NFT from the collection. "
   ]
  },
  {
   "cell_type": "code",
   "execution_count": 15,
   "metadata": {},
   "outputs": [
    {
     "data": {
      "text/html": [
       "<div>\n",
       "<style scoped>\n",
       "    .dataframe tbody tr th:only-of-type {\n",
       "        vertical-align: middle;\n",
       "    }\n",
       "\n",
       "    .dataframe tbody tr th {\n",
       "        vertical-align: top;\n",
       "    }\n",
       "\n",
       "    .dataframe thead th {\n",
       "        text-align: right;\n",
       "    }\n",
       "</style>\n",
       "<table border=\"1\" class=\"dataframe\">\n",
       "  <thead>\n",
       "    <tr style=\"text-align: right;\">\n",
       "      <th></th>\n",
       "      <th>Owners</th>\n",
       "    </tr>\n",
       "    <tr>\n",
       "      <th>Collections</th>\n",
       "      <th></th>\n",
       "    </tr>\n",
       "  </thead>\n",
       "  <tbody>\n",
       "    <tr>\n",
       "      <th>RTFKT CloneX Mintvial</th>\n",
       "      <td>1.0</td>\n",
       "    </tr>\n",
       "    <tr>\n",
       "      <th>Curio Cards</th>\n",
       "      <td>1.0</td>\n",
       "    </tr>\n",
       "    <tr>\n",
       "      <th>MetaHero Universe DAO Tokens</th>\n",
       "      <td>1.0</td>\n",
       "    </tr>\n",
       "    <tr>\n",
       "      <th>adidas Originals</th>\n",
       "      <td>1.0</td>\n",
       "    </tr>\n",
       "    <tr>\n",
       "      <th>888 Inner Circle</th>\n",
       "      <td>1.0</td>\n",
       "    </tr>\n",
       "    <tr>\n",
       "      <th>...</th>\n",
       "      <td>...</td>\n",
       "    </tr>\n",
       "    <tr>\n",
       "      <th>CryptoKitties</th>\n",
       "      <td>113324.0</td>\n",
       "    </tr>\n",
       "    <tr>\n",
       "      <th>Ethereum Name Service</th>\n",
       "      <td>274410.0</td>\n",
       "    </tr>\n",
       "    <tr>\n",
       "      <th>NBA Top Shot</th>\n",
       "      <td>649140.0</td>\n",
       "    </tr>\n",
       "    <tr>\n",
       "      <th>Axie Infinity</th>\n",
       "      <td>2952428.0</td>\n",
       "    </tr>\n",
       "    <tr>\n",
       "      <th>Alien Worlds</th>\n",
       "      <td>3019167.0</td>\n",
       "    </tr>\n",
       "  </tbody>\n",
       "</table>\n",
       "<p>174 rows × 1 columns</p>\n",
       "</div>"
      ],
      "text/plain": [
       "                                 Owners\n",
       "Collections                            \n",
       "RTFKT CloneX Mintvial               1.0\n",
       "Curio Cards                         1.0\n",
       "MetaHero Universe DAO Tokens        1.0\n",
       "adidas Originals                    1.0\n",
       "888 Inner Circle                    1.0\n",
       "...                                 ...\n",
       "CryptoKitties                  113324.0\n",
       "Ethereum Name Service          274410.0\n",
       "NBA Top Shot                   649140.0\n",
       "Axie Infinity                 2952428.0\n",
       "Alien Worlds                  3019167.0\n",
       "\n",
       "[174 rows x 1 columns]"
      ]
     },
     "execution_count": 15,
     "metadata": {},
     "output_type": "execute_result"
    }
   ],
   "source": [
    "df[['Owners']].sort_values('Owners', ascending=True)"
   ]
  },
  {
   "cell_type": "code",
   "execution_count": 16,
   "metadata": {},
   "outputs": [
    {
     "data": {
      "text/html": [
       "<div>\n",
       "<style scoped>\n",
       "    .dataframe tbody tr th:only-of-type {\n",
       "        vertical-align: middle;\n",
       "    }\n",
       "\n",
       "    .dataframe tbody tr th {\n",
       "        vertical-align: top;\n",
       "    }\n",
       "\n",
       "    .dataframe thead th {\n",
       "        text-align: right;\n",
       "    }\n",
       "</style>\n",
       "<table border=\"1\" class=\"dataframe\">\n",
       "  <thead>\n",
       "    <tr style=\"text-align: right;\">\n",
       "      <th></th>\n",
       "      <th>Owners</th>\n",
       "    </tr>\n",
       "  </thead>\n",
       "  <tbody>\n",
       "    <tr>\n",
       "      <th>count</th>\n",
       "      <td>1.740000e+02</td>\n",
       "    </tr>\n",
       "    <tr>\n",
       "      <th>mean</th>\n",
       "      <td>4.617396e+04</td>\n",
       "    </tr>\n",
       "    <tr>\n",
       "      <th>std</th>\n",
       "      <td>3.225507e+05</td>\n",
       "    </tr>\n",
       "    <tr>\n",
       "      <th>min</th>\n",
       "      <td>1.000000e+00</td>\n",
       "    </tr>\n",
       "    <tr>\n",
       "      <th>25%</th>\n",
       "      <td>2.914000e+03</td>\n",
       "    </tr>\n",
       "    <tr>\n",
       "      <th>50%</th>\n",
       "      <td>4.084000e+03</td>\n",
       "    </tr>\n",
       "    <tr>\n",
       "      <th>75%</th>\n",
       "      <td>5.338000e+03</td>\n",
       "    </tr>\n",
       "    <tr>\n",
       "      <th>max</th>\n",
       "      <td>3.019167e+06</td>\n",
       "    </tr>\n",
       "  </tbody>\n",
       "</table>\n",
       "</div>"
      ],
      "text/plain": [
       "             Owners\n",
       "count  1.740000e+02\n",
       "mean   4.617396e+04\n",
       "std    3.225507e+05\n",
       "min    1.000000e+00\n",
       "25%    2.914000e+03\n",
       "50%    4.084000e+03\n",
       "75%    5.338000e+03\n",
       "max    3.019167e+06"
      ]
     },
     "execution_count": 16,
     "metadata": {},
     "output_type": "execute_result"
    }
   ],
   "source": [
    "df[['Owners']].describe()"
   ]
  },
  {
   "cell_type": "markdown",
   "metadata": {},
   "source": [
    "Unlike other columns, we can see that quite a few collections have the same value of 1 owner. We can also see that the highest number of owners for a collection is 3,019,167. The average number of owners for our data is 46,173."
   ]
  },
  {
   "cell_type": "markdown",
   "metadata": {},
   "source": [
    "**Buyers**\n",
    "\n",
    "Buyers tell us how many people have actually bought from a collection."
   ]
  },
  {
   "cell_type": "code",
   "execution_count": 17,
   "metadata": {},
   "outputs": [
    {
     "data": {
      "text/html": [
       "<div>\n",
       "<style scoped>\n",
       "    .dataframe tbody tr th:only-of-type {\n",
       "        vertical-align: middle;\n",
       "    }\n",
       "\n",
       "    .dataframe tbody tr th {\n",
       "        vertical-align: top;\n",
       "    }\n",
       "\n",
       "    .dataframe thead th {\n",
       "        text-align: right;\n",
       "    }\n",
       "</style>\n",
       "<table border=\"1\" class=\"dataframe\">\n",
       "  <thead>\n",
       "    <tr style=\"text-align: right;\">\n",
       "      <th></th>\n",
       "      <th>Buyers</th>\n",
       "    </tr>\n",
       "    <tr>\n",
       "      <th>Collections</th>\n",
       "      <th></th>\n",
       "    </tr>\n",
       "  </thead>\n",
       "  <tbody>\n",
       "    <tr>\n",
       "      <th>Deafbeef</th>\n",
       "      <td>98</td>\n",
       "    </tr>\n",
       "    <tr>\n",
       "      <th>Autoglyphs</th>\n",
       "      <td>187</td>\n",
       "    </tr>\n",
       "    <tr>\n",
       "      <th>Mutant Garden Seeder</th>\n",
       "      <td>270</td>\n",
       "    </tr>\n",
       "    <tr>\n",
       "      <th>Avid Lines</th>\n",
       "      <td>284</td>\n",
       "    </tr>\n",
       "    <tr>\n",
       "      <th>Basis Markets</th>\n",
       "      <td>355</td>\n",
       "    </tr>\n",
       "    <tr>\n",
       "      <th>...</th>\n",
       "      <td>...</td>\n",
       "    </tr>\n",
       "    <tr>\n",
       "      <th>Sorare</th>\n",
       "      <td>63274</td>\n",
       "    </tr>\n",
       "    <tr>\n",
       "      <th>CryptoKitties</th>\n",
       "      <td>114421</td>\n",
       "    </tr>\n",
       "    <tr>\n",
       "      <th>NBA Top Shot</th>\n",
       "      <td>407970</td>\n",
       "    </tr>\n",
       "    <tr>\n",
       "      <th>Alien Worlds</th>\n",
       "      <td>444446</td>\n",
       "    </tr>\n",
       "    <tr>\n",
       "      <th>Axie Infinity</th>\n",
       "      <td>1556752</td>\n",
       "    </tr>\n",
       "  </tbody>\n",
       "</table>\n",
       "<p>174 rows × 1 columns</p>\n",
       "</div>"
      ],
      "text/plain": [
       "                       Buyers\n",
       "Collections                  \n",
       "Deafbeef                   98\n",
       "Autoglyphs                187\n",
       "Mutant Garden Seeder      270\n",
       "Avid Lines                284\n",
       "Basis Markets             355\n",
       "...                       ...\n",
       "Sorare                  63274\n",
       "CryptoKitties          114421\n",
       "NBA Top Shot           407970\n",
       "Alien Worlds           444446\n",
       "Axie Infinity         1556752\n",
       "\n",
       "[174 rows x 1 columns]"
      ]
     },
     "execution_count": 17,
     "metadata": {},
     "output_type": "execute_result"
    }
   ],
   "source": [
    "df[['Buyers']].sort_values('Buyers', ascending=True)"
   ]
  },
  {
   "cell_type": "code",
   "execution_count": 18,
   "metadata": {},
   "outputs": [
    {
     "data": {
      "text/html": [
       "<div>\n",
       "<style scoped>\n",
       "    .dataframe tbody tr th:only-of-type {\n",
       "        vertical-align: middle;\n",
       "    }\n",
       "\n",
       "    .dataframe tbody tr th {\n",
       "        vertical-align: top;\n",
       "    }\n",
       "\n",
       "    .dataframe thead th {\n",
       "        text-align: right;\n",
       "    }\n",
       "</style>\n",
       "<table border=\"1\" class=\"dataframe\">\n",
       "  <thead>\n",
       "    <tr style=\"text-align: right;\">\n",
       "      <th></th>\n",
       "      <th>Buyers</th>\n",
       "    </tr>\n",
       "  </thead>\n",
       "  <tbody>\n",
       "    <tr>\n",
       "      <th>count</th>\n",
       "      <td>1.740000e+02</td>\n",
       "    </tr>\n",
       "    <tr>\n",
       "      <th>mean</th>\n",
       "      <td>2.137355e+04</td>\n",
       "    </tr>\n",
       "    <tr>\n",
       "      <th>std</th>\n",
       "      <td>1.258618e+05</td>\n",
       "    </tr>\n",
       "    <tr>\n",
       "      <th>min</th>\n",
       "      <td>9.800000e+01</td>\n",
       "    </tr>\n",
       "    <tr>\n",
       "      <th>25%</th>\n",
       "      <td>3.794750e+03</td>\n",
       "    </tr>\n",
       "    <tr>\n",
       "      <th>50%</th>\n",
       "      <td>5.763500e+03</td>\n",
       "    </tr>\n",
       "    <tr>\n",
       "      <th>75%</th>\n",
       "      <td>7.665250e+03</td>\n",
       "    </tr>\n",
       "    <tr>\n",
       "      <th>max</th>\n",
       "      <td>1.556752e+06</td>\n",
       "    </tr>\n",
       "  </tbody>\n",
       "</table>\n",
       "</div>"
      ],
      "text/plain": [
       "             Buyers\n",
       "count  1.740000e+02\n",
       "mean   2.137355e+04\n",
       "std    1.258618e+05\n",
       "min    9.800000e+01\n",
       "25%    3.794750e+03\n",
       "50%    5.763500e+03\n",
       "75%    7.665250e+03\n",
       "max    1.556752e+06"
      ]
     },
     "execution_count": 18,
     "metadata": {},
     "output_type": "execute_result"
    }
   ],
   "source": [
    "df[['Buyers']].describe()"
   ]
  },
  {
   "cell_type": "markdown",
   "metadata": {},
   "source": [
    "Here we see our lowest value is Deadbeef with 98 total buyers and Axie Infinity with the highest value of 1,556,752 buyers. The average number of buyers in our data is 21,373."
   ]
  },
  {
   "cell_type": "markdown",
   "metadata": {},
   "source": [
    "<h1>Visualizations & Correlations</h1>\n",
    "\n",
    "Now we will start to make more advanced observsations about the data overall through visualization and correlation of columns. I chose to use scatterplots to visualize our data because we have 174 unique indexes and our numerical data is all-time as opposed to time-series. Using the corr() method we see from the computation that Buyers and Transactions, Buyers and Owners have the strongest correlations."
   ]
  },
  {
   "cell_type": "code",
   "execution_count": 19,
   "metadata": {},
   "outputs": [
    {
     "data": {
      "text/html": [
       "<div>\n",
       "<style scoped>\n",
       "    .dataframe tbody tr th:only-of-type {\n",
       "        vertical-align: middle;\n",
       "    }\n",
       "\n",
       "    .dataframe tbody tr th {\n",
       "        vertical-align: top;\n",
       "    }\n",
       "\n",
       "    .dataframe thead th {\n",
       "        text-align: right;\n",
       "    }\n",
       "</style>\n",
       "<table border=\"1\" class=\"dataframe\">\n",
       "  <thead>\n",
       "    <tr style=\"text-align: right;\">\n",
       "      <th></th>\n",
       "      <th>Sales</th>\n",
       "      <th>Buyers</th>\n",
       "      <th>Txns</th>\n",
       "      <th>Owners</th>\n",
       "    </tr>\n",
       "  </thead>\n",
       "  <tbody>\n",
       "    <tr>\n",
       "      <th>Sales</th>\n",
       "      <td>1.000000</td>\n",
       "      <td>0.788959</td>\n",
       "      <td>0.628875</td>\n",
       "      <td>0.570156</td>\n",
       "    </tr>\n",
       "    <tr>\n",
       "      <th>Buyers</th>\n",
       "      <td>0.788959</td>\n",
       "      <td>1.000000</td>\n",
       "      <td>0.829943</td>\n",
       "      <td>0.863808</td>\n",
       "    </tr>\n",
       "    <tr>\n",
       "      <th>Txns</th>\n",
       "      <td>0.628875</td>\n",
       "      <td>0.829943</td>\n",
       "      <td>1.000000</td>\n",
       "      <td>0.710099</td>\n",
       "    </tr>\n",
       "    <tr>\n",
       "      <th>Owners</th>\n",
       "      <td>0.570156</td>\n",
       "      <td>0.863808</td>\n",
       "      <td>0.710099</td>\n",
       "      <td>1.000000</td>\n",
       "    </tr>\n",
       "  </tbody>\n",
       "</table>\n",
       "</div>"
      ],
      "text/plain": [
       "           Sales    Buyers      Txns    Owners\n",
       "Sales   1.000000  0.788959  0.628875  0.570156\n",
       "Buyers  0.788959  1.000000  0.829943  0.863808\n",
       "Txns    0.628875  0.829943  1.000000  0.710099\n",
       "Owners  0.570156  0.863808  0.710099  1.000000"
      ]
     },
     "execution_count": 19,
     "metadata": {},
     "output_type": "execute_result"
    }
   ],
   "source": [
    "df.corr(method='pearson')"
   ]
  },
  {
   "cell_type": "code",
   "execution_count": 20,
   "metadata": {},
   "outputs": [
    {
     "data": {
      "text/plain": [
       "<AxesSubplot:title={'center':'Buyers vs Owners'}, xlabel='Buyers', ylabel='Owners'>"
      ]
     },
     "execution_count": 20,
     "metadata": {},
     "output_type": "execute_result"
    },
    {
     "data": {
      "image/png": "[encoded data removed]",
      "text/plain": [
       "<Figure size 432x288 with 1 Axes>"
      ]
     },
     "metadata": {
      "needs_background": "light"
     },
     "output_type": "display_data"
    },
    {
     "data": {
      "image/png": "[encoded data removed]",
      "text/plain": [
       "<Figure size 432x288 with 1 Axes>"
      ]
     },
     "metadata": {
      "needs_background": "light"
     },
     "output_type": "display_data"
    }
   ],
   "source": [
    "df.plot.scatter(x='Buyers',y='Txns', title='Buyers vs Transactions')\n",
    "df.plot.scatter(x='Buyers',y='Owners', title='Buyers vs Owners')"
   ]
  },
  {
   "cell_type": "markdown",
   "metadata": {},
   "source": [
    "From plotting these columns however, there's not much to see. Most of the collections in our dataset have both a low number of buyers and owners as well as transactions with only few being away from the cluster or one complete outlier"
   ]
  },
  {
   "cell_type": "code",
   "execution_count": 21,
   "metadata": {},
   "outputs": [
    {
     "data": {
      "text/plain": [
       "<AxesSubplot:title={'center':'Sales vs Buyers'}, xlabel='Buyers', ylabel='Sales'>"
      ]
     },
     "execution_count": 21,
     "metadata": {},
     "output_type": "execute_result"
    },
    {
     "data": {
      "image/png": "[encoded data removed]",
      "text/plain": [
       "<Figure size 432x288 with 1 Axes>"
      ]
     },
     "metadata": {
      "needs_background": "light"
     },
     "output_type": "display_data"
    },
    {
     "data": {
      "image/png": "[encoded data removed]",
      "text/plain": [
       "<Figure size 432x288 with 1 Axes>"
      ]
     },
     "metadata": {
      "needs_background": "light"
     },
     "output_type": "display_data"
    }
   ],
   "source": [
    "df.plot.scatter(x='Txns',y='Sales', title='Sales vs Transactions')\n",
    "df.plot.scatter(x='Buyers', y='Sales', title='Sales vs Buyers')"
   ]
  },
  {
   "cell_type": "markdown",
   "metadata": {},
   "source": [
    "Plotting collection sales against both transactions and buyers also shows us that for most of our data there is not much of a correlation. This tells us that while these collections can make a lot of money, it doesn't mean that many people are buying them. This alludes to the price tag some NFT Collections can have."
   ]
  },
  {
   "cell_type": "markdown",
   "metadata": {},
   "source": [
    "<h1>Closing Remarks</h1>\n",
    "\n",
    "As we've seen from our exploration into this NFT Collections Dataset, NFT's are vastly growing and a lot of money has been made in sales. Throughout our plots and looking at the min and max's of columns we saw that [Axie Infinity](https://axieinfinity.com/) was quite prevalent as an outlier. To answer what makes Axie Infinity so popular, it is actually a game using NFT's as characters with unique skills and abilities. Players are constantly trading or buying to upgrade to a better character. From knowing this, it's easy to see how it has dominated in all the columns. Looking back, I wish I could have used time-series data as that could have opened up to a lot more see over time such as growth of these collections."
   ]
  }
 ],
 "metadata": {
  "kernelspec": {
   "display_name": "Python 3",
   "language": "python",
   "name": "python3"
  },
  "language_info": {
   "codemirror_mode": {
    "name": "ipython",
    "version": 3
   },
   "file_extension": ".py",
   "mimetype": "text/x-python",
   "name": "python",
   "nbconvert_exporter": "python",
   "pygments_lexer": "ipython3",
   "version": "3.8.5"
  }
 },
 "nbformat": 4,
 "nbformat_minor": 4
}
